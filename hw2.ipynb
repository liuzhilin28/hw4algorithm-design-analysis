{
 "cells": [
  {
   "cell_type": "markdown",
   "metadata": {},
   "source": [
    "## algorithm design and anlysis-2025 spring  homework 2\n",
    "**Deadline**：2025.5.14\n",
    "\n",
    "**name**:\n",
    "\n",
    "\n",
    "note：\n",
    "---\n",
    "1. 带有\\*的题目，申请免上课的同学，必须完成，其他同学选作；\n",
    "2. 请独立完成，如求助了他人或者大模型，请著明，并且不可省略算法分析部分；\n",
    "4. 如若作答有雷同，全部取消成绩；\n",
    "3. 需要书面作答的题目，可以通过引用图片的形式添加，但是注意上传项目时包含所引用的图片的源文件；\n",
    "4. $log_n$ 默认表示$log_2{n}$;"
   ]
  },
  {
   "cell_type": "markdown",
   "metadata": {},
   "source": [
    "## 问题 1  \n",
    "\n",
    "> 给定一个已排序的链表的头 `head` ， *删除所有重复的元素，使每个元素只出现一次* 。返回 *已排序的链表* 。链表的类如下所示：\n",
    "\n",
    "```python\n",
    "class NodeList:\n",
    "    def __init__(self, val=None, right=None):\n",
    "        self.val   = val\n",
    "        self.right = right\n",
    "```\n",
    "\n",
    "输入是一个数组，你首先需要将数组转化为链表，然后删除链表中的重复元素，再遍历链表元素，以一个数组的形式返回。请设计一个算法解决上述任务，分析算法设计思路，计算时间复杂度, 并基于python编程实现。\n",
    "\n",
    "e.g.  输入：head=[1, 1, 2, 3, 3]   输出：[1, 2, 3]\n",
    "\n",
    "![image-20240502110020439](./fig/hw2q1.png)\n",
    "\n"
   ]
  },
  {
   "cell_type": "markdown",
   "metadata": {},
   "source": [
    "idea："
   ]
  },
  {
   "cell_type": "code",
   "execution_count": null,
   "metadata": {},
   "outputs": [
{
     "name": "stdout",
     "output_type": "stream",
     "text": [
      "[1, 2, 5, 6, 7, 8]\n"
     ]
    }

   ],
   "source": [
    "# add your idea here\n",

"class ListNode(object):\n",
    "    def __init__(self, val=0, next=None):\n",
    "        self.val = val\n",
    "        self.next = next\n",
    "\n",
    "#删除重复元素\n",
    "class Solution(object):\n",
    "    def deleteDuplicates(self, head):\n",
    "        \"\"\"\n",
    "        :type head: ListNode\n",
    "        :rtype: ListNode\n",
    "        \"\"\"\n",
    "        s = set()\n",
    "        pre = ListNode(float('INF'))\n",
    "        pre.next = head\n",
    "        ret = pre\n",
    "        while head:\n",
    "            if head.val not in s:\n",
    "                s.add(head.val)\n",
    "                pre = pre.next\n",
    "            else:\n",
    "                pre.next = head.next\n",
    "            head = head.next\n",
    "        return ret.next\n",
    "#算法思路：使用head指针来遍历链表，创建s集合存储数据。\n",
    "#当head.val不在集合s中时，将head.val加入s，并将指针指向该节点；\n",
    "#当head.val在该集合中时，说明该值重复，通过将 pre.next 指向当前节点的下一个节点来删除当前节点。\n",
    "\n",
    "#数组-->链表\n",
    "def array_to_linkedlist(arr):\n",
    "    if not arr:\n",
    "        return None\n",
    "    head = ListNode(arr[0])\n",
    "    current = head\n",
    "    for val in arr[1:]:\n",
    "        current.next = ListNode(val)\n",
    "        current = current.next\n",
    "    return head\n",
    "\n",
    "#链表-->数组\n",
    "def linkedlist_to_array(head):\n",
    "    arr = []\n",
    "    current = head\n",
    "    while current:\n",
    "        arr.append(current.val)\n",
    "        current = current.next\n",
    "    return arr\n",
    "\n",
    "\n",
    "\n",
    "# 示例\n",
    "solution = Solution()\n",
    "head = array_to_linkedlist([1,2,5,5,6,7,7,8])\n",
    "result = solution.deleteDuplicates(head)\n",
    "sorted_result = linkedlist_to_array(result)\n",
    "print(sorted_result)  \n",
    "\n",

    "# your algorithm time complexity is:#删除链表中的重复元素的时间复杂度为O(n)，因为只需要遍历链表一次就可以执行完该操作"
   ]
  },
  {
   "cell_type": "markdown",
   "metadata": {},
   "source": [
    "## 问题 2  \n",
    "\n",
    "> 下面是一个经典的算法问题：\n",
    ">\n",
    "> - 给定包含n个整数的一个整数数组 `nums` 和一个整数目标值 `target`，请你在该数组中找出 **和为目标值** *`target`* 的那 **两个** 整数，并返回它们的**数组下标**。假设每种输入只会对应一个答案。但是，数组中同一个元素在答案里不能重复出现。你可以按任意顺序返回答案。\n",
    ">\n",
    "> 由于要多次查找数组中元素的位置，为了提高查询效率可以使用哈希表来存储数组中的数据，在哈希表中查询一个元素的复杂度为O(1)。 已知python中的字典是使用哈希表实现的，即使用`dict[key]`查询对应的value时间复杂度为O(1), python提供了查询字典是否包含某个key的功能：`key in dict`，时间复杂度也是O(1)\n",
    "\n",
    "请根据上面信息，设计一个时间复杂度为O(n) 的算法，解决上述算法问题\n",
    "\n",
    "e.g.   \n",
    "\n",
    "输入：nums=[2,7,11,15], target=9， 输出：[0，1]\n",
    "\n",
    "输入：nums=[3,2,4], target=6, 输出：[1,2]\n",
    "\n",
    "输入：nums=[3,3], target=6,  输出：[0,1]\n"
   ]
  },
  {
   "cell_type": "code",
   "execution_count": null,
   "metadata": {},
   "outputs": [
{
     "name": "stdout",
     "output_type": "stream",
     "text": [
      "输入：nums=[2,7,11,15], target=9\n",
      "输出： [0, 1]\n",
      "\n",
      "输入：nums=[3,2,4], target=6\n",
      "输出： [1, 2]\n",
      "\n",
      "输入：nums=[3,3], target=6\n",
      "输出： [0, 1]\n"
     ]
    }

   ],
   "source": [
    "# add your idea here\n",

"class Solution:\n",
    "    def twoSum(self, nums, target):\n",
    "        if not nums:\n",
    "            return None\n",
    "        \n",
    "        d = dict()\n",
    "        for i, item in enumerate(nums):\n",
    "            tmp = target - item\n",
    "            if tmp in d:\n",
    "                return [d[tmp], i]\n",
    "            d[item] = i\n",
    "        return None\n",
    "\n",
    "def main():\n",
    "    nums = [2, 7, 11, 15]\n",
    "    target = 9\n",
    "    \n",
    "    # 创建Solution对象并调用twoSum方法\n",
    "    solution = Solution()\n",
    "    result = solution.twoSum(nums, target)\n",
    "    \n",
    "    print(\"输入：nums=[2,7,11,15], target=9\")\n",
    "    print(\"输出：\", result)\n",
    "\n",
    "    nums2 = [3, 2, 4]\n",
    "    target2 = 6\n",
    "    result2 = solution.twoSum(nums2, target2)\n",
    "    print(\"\\n输入：nums=[3,2,4], target=6\")\n",
    "    print(\"输出：\", result2)\n",
    "\n",
    "    nums3 = [3, 3]\n",
    "    target3 = 6\n",
    "    result3 = solution.twoSum(nums3, target3)\n",
    "    print(\"\\n输入：nums=[3,3], target=6\")\n",
    "    print(\"输出：\", result3)\n",
    "\n",
    "if __name__ == \"__main__\":\n",
    "    main()",


    "# your algorithm time complexity is: O(n)"
   ]
  },
  {
   "cell_type": "markdown",
   "metadata": {},
   "source": [
    "## 问题 3:   \n",
    "\n",
    "> 栈是一种常用的数据结构，编译器中通常使用栈来实现表达式求值。\n",
    ">\n",
    "> 以表达式 $3+5 \\times 8-6$​ 为例。编译器使用两个栈来完成运算，即一个栈保持操作数，另一个栈保存运算符。\n",
    ">\n",
    "> 1. 从左向右遍历表达式，遇到数字就压入操作数栈；\n",
    ">\n",
    "> 2. 遇到运算符，就与运算符栈的栈顶元素进行比较。如果比运算符栈顶元素的优先级高，就将当前运算符压入栈；如果比运算符栈顶元素的优先级低或者相同，从运算符栈中取栈顶运算符，从操作数栈的栈顶取 2 个操作数，然后进行计算，再把计算完的结果压入操作数栈，继续比较。\n",
    ">\n",
    "> 下图是 $3+5 \\times 8-6$  这个表达式的计算过程：\n",
    "\n",
    "![figure](./fig/hw2q3.png)\n",
    "\n",
    "根据上述原理，请设计一个算法完成表达式的运算，当输入为表达式字符串，返回对应的计算结果。分析算法设计思路，计算时间复杂度，并基于python编程实现\n",
    "\n",
    "**note：**\n",
    "\n",
    "1. 假设输入的表达式只会出现加（“+”），减 “-”， 乘“*”，除 “/” 四个运算符, 表达式中只会出现正整数\n",
    "2. python中` str.isdigit()`函数可以判断字符串str是否为数字，\n",
    "\n",
    "\n",
    "\n",
    "e.g. :\n",
    "---\n",
    "\n",
    "1. 输入：“$3+5 * 8 -6$”   输出：37\n",
    "\n",
    "2. 输入：“$34+13*9 + 44-12/3$”  输出：191"
   ]
  },
  {
   "cell_type": "markdown",
   "metadata": {},
   "source": [
    "idea："
   ]
  },
  {
   "cell_type": "code",
   "execution_count": null,
   "metadata": {},
   "outputs": [
{
     "name": "stdout",
     "output_type": "stream",
     "text": [
      "37\n"
     ]
    }

   ],
   "source": [
    "# add your idea here\n",

 "# 转为后缀表达式，运算表达式元素之间用空格隔开\n",
    "def change_opt(opt):\n",
    "    result = []  # 结果列表\n",
    "    stack = []  # 栈\n",
    "    item_lists = opt.split(' ')\n",
    "    for item in item_lists:\n",
    "        # 如果当前字符为正整数那么直接放入结果列表\n",
    "        if item.isdigit():\n",
    "            result.append(item)\n",
    "        else:\n",
    "            if len(stack) == 0:     # 如果栈空，直接入栈\n",
    "                stack.append(item)\n",
    "            elif item in '*/(':     # 如果当前字符为*/（，直接入栈\n",
    "                stack.append(item)\n",
    "            elif item == ')':\n",
    "                t = stack.pop()\n",
    "                while t != '(':\n",
    "                    result.append(t)\n",
    "                    t = stack.pop()\n",
    "            elif item in '+-' and stack[-1] in '*/':\n",
    "                if stack.count('(') == 0:\n",
    "                    while stack:\n",
    "                        result.append(stack.pop())\n",
    "                else:  # 如果有左括号，输出到左括号为止\n",
    "                    t = stack.pop()\n",
    "                    while t != '(':\n",
    "                        result.append(t)\n",
    "                        t = stack.pop()\n",
    "                    stack.append('(')\n",
    "                stack.append(item)\n",
    "            else:\n",
    "                stack.append(item)\n",
    "    # 把栈中数据弹出\n",
    "    while stack:\n",
    "        result.append(stack.pop())\n",
    "    return result\n",
    "\n",
    "# 后缀表达式计算\n",
    "def get_value(follow):\n",
    "    num = []\n",
    "    base_opt = ['+', '-', '*', '/']\n",
    "    for j in follow:\n",
    "        if j.isdigit():\n",
    "            num.append(int(j)) \n",
    "        if j in base_opt:\n",
    "            num2 = num.pop()\n",
    "            num1 = num.pop()\n",
    "            res = method(num1, num2, j)\n",
    "            num.append(res)\n",
    "    return num[0]\n",
    "\n",
    "def method(num1, num2, j):\n",
    "    if j == \"+\":\n",
    "        res = num1 + num2\n",
    "    elif j == \"-\":\n",
    "        res = num1 - num2\n",
    "    elif j == \"*\":\n",
    "        res = num1 * num2\n",
    "    else:\n",
    "        res = num1 // num2  \n",
    "    return res\n",
    "\n",
    "if __name__ == '__main__':\n",
    "    opt = \"3 + 5 * 8 - 6\"\n",
    "    result = change_opt(opt)\n",
    "    print(get_value(result))\n",
    "     \n",
    "\n",


    "# your algorithm time complexity is:转后缀表达式和后缀表达式求值的时间复杂度都为O(n),因此总的时间复杂度为O(n) "
   ]
  },
  {
   "cell_type": "markdown",
   "metadata": {},
   "source": [
    "## 问题 4:  \n",
    "\n",
    "> 星球碰撞问题：现有n个星球，在同一条直线上运行，如数组A所示，元素的绝对值表示星球的质量，负数表示星球自右向左运动，正数表示星球自左向右运动，当两个星球相撞的时候，质量小的会消失，大的保持不变，**质量相同的两个星球碰撞后自右向左运动的星球消失，自左向右的星球保持不变**，假设所有星球的速度大小相同。\n",
    ">\n",
    "> $ A=[23,-8, 9, -3, -7, 9, -23, 22] $\n",
    "\n",
    "请设计一个算法模拟星球的运行情况，输出最终的星球存续情况（输出一个数组），分析算法设计思路，计算时间复杂度，并基于python编程实现。\n",
    "\n",
    "e.g.\n",
    "---\n",
    "1.  输入： A=[-3,-6,2,8, 5,-8,9,-2,1]， 输出：[-3, -6, 2, 8, 9, 1]\n",
    "\n",
    "2. 输入：A=[23,-8, 9, -3, -7, 9, -23, 22], 输出：[23, 22]\n",
    "\n"
   ]
  },

 {
   "cell_type": "code",
   "execution_count": null,
   "id": "96ddb193-9abf-4d37-bede-ade8b634eb21",
   "metadata": {},
   "outputs": [
    {
     "name": "stdout",
     "output_type": "stream",
     "text": [
      "输入: [23, -8, 9, -3, -7, 9, -23, 22]\n",
      "输出: [23, 22]\n"
     ]
    }
   ],
   "source": [
    "#构建正数栈和负数栈，遍历一遍列表，若为正数不需要进行操作直接入栈（负数方向向左正数向右），若为负数则依次与正数栈的栈顶元素进行比较。\n",
    "\n",
    "from typing import List\n",
    "\n",
    "class Solution:\n",
    "    def asteroidCollision(self, asteroids: List[int]) -> List[int]:\n",
    "        stk_forward = []  # 前进方向（自左向右）的星球栈\n",
    "        stk_backward = []  # 后退方向（自右向左）的星球栈\n",
    "        \n",
    "        for asteroid in asteroids:\n",
    "            if asteroid >= 0:\n",
    "                stk_forward.append(asteroid)  # 如果星球是向右（正数）移动，加入前进栈\n",
    "            else:\n",
    "                # 处理向左移动的星球（负数）\n",
    "                collision = True  # 标志是否发生碰撞\n",
    "                while stk_forward and collision:  # 当存在前进的星球且可能发生碰撞时\n",
    "                    if stk_forward[-1] < -asteroid:\n",
    "                        stk_forward.pop()  # 如果当前前进的星球质量小于碰撞的后退星球，前进星球被摧毁\n",
    "                    elif stk_forward[-1] == -asteroid: # 两个星球质量相等，摧毁后退星球\n",
    "                        collision = False  # 停止当前碰撞处理\n",
    "                    else:\n",
    "                        collision = False  # 当前后退星球被摧毁，停止碰撞处理\n",
    "                \n",
    "                if collision:\n",
    "                    stk_backward.append(asteroid)  # 如果碰撞标志仍为True，说明当前后退星球未被摧毁，加入后退栈\n",
    "\n",
    "        # 合并两个方向的星球栈\n",
    "        result = stk_backward + stk_forward\n",
    "        \n",
    "        return result\n",
    "\n",
    "# 示例\n",
    "solution = Solution()\n",
    "asteroids = [23,-8, 9, -3, -7, 9, -23, 22]\n",
    "result = solution.asteroidCollision(asteroids)\n",
    "print(f\"输入: {asteroids}\")\n",
    "print(f\"输出: {result}\")"
   ]
  },


  {
   "cell_type": "markdown",
   "metadata": {},
   "source": [
    "## 问题 5 \n",
    "\n",
    "> 给定一个无序数组nums=[9,-3,-10,0,9,7,33]，请建立一个二叉搜索树存储数组中的所有元素，之后删除二叉树中的元素“0”，再使用中序遍历输出二叉搜索树中的所有元素。\n",
    "\n",
    "使用python编程完成上述任务，并计算时间复杂度\n"
   ]
  },
  {
   "cell_type": "code",
   "execution_count": null,
   "metadata": {},
   "outputs": [
 {
     "name": "stdout",
     "output_type": "stream",
     "text": [
      "中序遍历结果： [-10, -3, 7, 9, 9, 33]\n"
     ]
    }

   ],
   "source": [
    "# add your idea here\n",

"# 定义二叉树的节点类\n",
    "class TreeNode:\n",
    "    def __init__(self, key):\n",
    "        self.key = key  \n",
    "        self.left = None \n",
    "        self.right = None  \n",
    "\n",
    "\n",
    "# 定义二叉搜索树类\n",
    "class BinarySearchTree:\n",
    "    def __init__(self):\n",
    "        self.root = None  \n",
    "\n",
    "    # 插入元素到二叉搜索树\n",
    "    def insert(self, key):\n",
    "        if self.root is None: # 如果树为空，直接将新节点作为根节点\n",
    "            self.root = TreeNode(key)\n",
    "        else:# 如果树不为空，递归插入新节点\n",
    "            self._insert_recursive(self.root, key)\n",
    "\n",
    "    # 递归插入新节点\n",
    "    def _insert_recursive(self, node, key):\n",
    "        if key < node.key: # 如果新值小于当前节点的值，插入到左子树\n",
    "            if node.left is None:\n",
    "                node.left = TreeNode(key)\n",
    "            else:\n",
    "                self._insert_recursive(node.left, key)\n",
    "        else: # 如果新值大于或等于当前节点的值，插入到右子树\n",
    "            if node.right is None:\n",
    "                node.right = TreeNode(key)\n",
    "            else:\n",
    "                self._insert_recursive(node.right, key)\n",
    "\n",
    "    # 从二叉搜索树中删除元素\n",
    "    def delete(self, key):# 从根节点开始删除操作\n",
    "        self.root = self._delete_recursive(self.root, key)\n",
    "\n",
    "    # 递归删除节点\n",
    "    def _delete_recursive(self, node, key):# 如果树为空，直接返回 None\n",
    "        if node is None:\n",
    "            return node\n",
    "            \n",
    "        # 找到要删除的节点\n",
    "        if key < node.key:\n",
    "            node.left = self._delete_recursive(node.left, key)\n",
    "        elif key > node.key:\n",
    "            node.right = self._delete_recursive(node.right, key)\n",
    "        else:# 当前节点是要删除的节点\n",
    "            if node.left is None:# 如果左子节点为空，用右子节点替代当前节点\n",
    "                return node.right\n",
    "            elif node.right is None:# 如果右子节点为空，用左子节点替代当前节点\n",
    "                return node.left\n",
    "            else:\n",
    "                # 如果左右子节点都不为空，找到右子树中的最小节点替代当前节点\n",
    "                min_larger_node = self._find_min(node.right)\n",
    "                node.key = min_larger_node.key\n",
    "                # 删除右子树中的最小节点\n",
    "                node.right = self._delete_recursive(node.right, min_larger_node.key)\n",
    "        return node\n",
    "\n",
    "    # 查找树中的最小节点\n",
    "    def _find_min(self, node):\n",
    "        current = node# 一直向左子树查找，直到找到最小节点\n",
    "        while current.left is not None:\n",
    "            current = current.left\n",
    "        return current\n",
    "\n",
    "    # 中序遍历二叉搜索树\n",
    "    def inorder_traversal(self):\n",
    "        result = []  # 存储遍历结果\n",
    "        # 从根节点开始中序遍历\n",
    "        self._inorder_traversal_recursive(self.root, result)\n",
    "        return result\n",
    "\n",
    "    # 递归中序遍历\n",
    "    def _inorder_traversal_recursive(self, node, result):\n",
    "        if node is not None:# 首先遍历左子树\n",
    "            self._inorder_traversal_recursive(node.left, result)# 然后访问当前节点\n",
    "            result.append(node.key)# 最后遍历右子树\n",
    "            self._inorder_traversal_recursive(node.right, result)\n",
    "\n",
    "\n",
    "\n",
    "nums = [9, -3, -10, 0, 9, 7, 33]\n",
    "bst = BinarySearchTree()\n",
    "for num in nums:\n",
    "    bst.insert(num)\n",
    "bst.delete(0)\n",
    "result = bst.inorder_traversal()\n",
    "print(\"中序遍历结果：\", result)\n",
    "\n",


    "# your algorithm time complexity is:时间复杂度：构建二叉树O(nlogn);删除元素O(logn);中序遍历O(n)。因此总体的时间复杂度为O(nlogn)"
   ]
  },
  {
   "cell_type": "markdown",
   "metadata": {},
   "source": [
    "## 问题 6  \n",
    "\n",
    "> 给定一个包含大写字母和小写字母的字符串 s ，返回 字符串包含的 **最长的回文子串的长度** 。请注意 区分大小写 。比如 \"Aa\" 不能当做一个回文字符串。\n",
    ">\n",
    "\n",
    "请设计一个算法解决上述问题，只需要输出最长回文子串的长度，分析算法设计思路，计算时间复杂度，并基于python编程实现\n",
    "\n",
    "e.g. 输入： s=\"adccaccd\"，  输出：7。 最长回文子串为：\"dccaccd\", 长度为7\n"
   ]
  },
  {
   "cell_type": "markdown",
   "metadata": {},
   "source": [
    "idea："
   ]
  },
  {
   "cell_type": "code",
   "execution_count": null,
   "metadata": {},
   "outputs": [],
   "source": [
    "# add your idea here\n",
    "# your algorithm time complexity is:\n"
   ]
  },
  {
   "cell_type": "markdown",
   "metadata": {},
   "source": [
    "## 问题 7 \n",
    "\n",
    "> 沿一条长河流分散着n座房子。你可以把这条河想象成一条轴，房子是由它们在这条轴上的坐标按顺序排列的。你的公司想在河边的特定地点设置手机基站，这样每户人家都在距离基站4公里的范围内。输入可以看作为一个升序数组，数组元素的取值为大于等于0的正整数，你需要输出最小基站的数目，基站的位置。\n",
    "\n",
    "1. 给出一个时间复杂度为$O(n$) 的算法，使所使用的基站数量最小化，分析算法设计思路，使用python编程实现\n",
    "2. 证明1.中算法产生了最优解决方案。\n",
    "\n",
    "e.g. \n",
    "\n",
    "输入： [1, 5, 12, 33, 34,35]  输出：基站数目为3， 基站位置为[1，12，33]\n",
    "\n"
   ]
  },
  {
   "cell_type": "markdown",
   "metadata": {},
   "source": [
    "idea："
   ]
  },
  {
   "cell_type": "code",
   "execution_count": null,
   "metadata": {},
   "outputs": [],
   "source": [
    "# add your idea here\n",
    "# your algorithm time complexity is:"
   ]
  },
  {
   "cell_type": "markdown",
   "metadata": {},
   "source": [
    "## 问题 8  \n",
    "\n",
    "> 给定由n个正整数组成的一个集合$S = \\{a_1, a_2，···，a_n\\}$和一个正整数W，设计一个算法确定是否存在S的一个子集 $K \\subseteq S$, 使K中所有数之和为 $W$, 如果存在返回“True”，否则返回“False”\n",
    "\n",
    "请设计一个时间复杂度为$O(nW)$动态规划算法，解决上述问题，分析算法的设计思路，并且基于python编程实现（不需要输出子集）。\n",
    "\n",
    "e.g. \n",
    "\n",
    "输入：S = {1,4,7,3,5}， W = 11，输出：True。   因为K可以是{4,7}。\n",
    "\n"
   ]
  },
  {
   "cell_type": "markdown",
   "metadata": {},
   "source": [
    "idea："
   ]
  },
  {
   "cell_type": "code",
   "execution_count": null,
   "metadata": {},
   "outputs": [],
   "source": [
    "# add your idea here\n",
    "# your algorithm time complexity is: O(nW)"
   ]
  },
  {
   "cell_type": "markdown",
   "metadata": {},
   "source": [
    "\n",
    "\n",
    "## 问题 9 \n",
    "\n",
    "> 给定一个n个物品的集合。物体的重量为$w_1, w_2，…、w_n$，物品的价值分别是$v_1、v_2、…v_n$。给你**两个**重量为 $c$ 的背包。如果你带了一个东西，它可以放在一个背包里，也可以放在另一个背包里，但不能同时放在两个背包里。所有权重和价值都是正整数。\n",
    "\n",
    "1. 设计一个时间复杂度为 $O(nc^2)$ 的动态规划算法，确定可以放入两个背包的物体的最大价值。分析算法设计思路，并基于python编程实现\n",
    "2. \\* 修改1中的算法，输出每个背包的内容（物品对应下标）。\n",
    "\n",
    "e.g.: \n",
    "\n",
    "输入 V=[1,3,2,5,8,7], W=[1,3,2,5,8,7], c=7, 输出：最大价值=14，背包装的物品为：[6] [4，3] （同一个背包中物品装入顺序对结果无影响）  \n"
   ]
  },
  {
   "cell_type": "markdown",
   "metadata": {},
   "source": [
    "idea："
   ]
  },
  {
   "cell_type": "code",
   "execution_count": null,
   "metadata": {},
   "outputs": [],
   "source": [
    "# add your idea here\n",
    "# your algorithm time complexity is: O(nc^2)"
   ]
  },
  {
   "cell_type": "markdown",
   "metadata": {},
   "source": [
    "## 问题 10 \n",
    "\n",
    "> 给定两个字符串 $x[1..n]$ 和 $y[1..m]$，我们想通过以下操作将 $x$ 变换为 $y$ :\n",
    ">\n",
    "> **插入**：在 $x$ 中插入一个字符(在任何位置)；**删除**：从 $x$ 中删除一个字符(在任何位置)； **替换**：用另一个字符替换 $x$ 中的一个字符。\n",
    ">\n",
    "> 例如: $x = abcd$, $y = bcfe$，\n",
    ">\n",
    "> - 将 $x$ 转换为 $y$ 的一种可能方法是：1. 删除 $x$ 开头的 $a$, $x$变成 $bcd$； 2. 将 $x$ 中的字符 $d$ 替换为字符 $f$。$x$ 变成 $bcf$； 3. 在 $x$ 的末尾插入字符 $e$。$x$ 变成 $bcfe$。\n",
    ">\n",
    "> - 另一种可能的方法：1. 删除 $x$ 开头的 $a$,  $x$ 变成 $bcd$； 2. 在 $x$ 中字符 $d$ 之前插入字符 $f$。$x$ 变成 $bcfd$。3. 将 $x$ 中的字符 $d$ 替换为字符 $e$。$x$ 变成 $bcfe$。\n",
    "\n",
    "设计一个时间复杂度为 $O(mn)$ 的算法，返回将 $x$ 转换为 $y$ 所需的最少操作次数。分析算法设计思路，并基于python编程实现。\n"
   ]
  },
  {
   "cell_type": "markdown",
   "metadata": {},
   "source": [
    "idea："
   ]
  },
  {
   "cell_type": "code",
   "execution_count": null,
   "metadata": {},
   "outputs": [],
   "source": [
    "# add your idea here\n",
    "# your algorithm time complexity is: O(mn)"
   ]
  }
 ],
 "metadata": {
  "language_info": {
   "name": "python"
  }
 },
 "nbformat": 4,
 "nbformat_minor": 2
}
