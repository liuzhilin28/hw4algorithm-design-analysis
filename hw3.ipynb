{
 "cells": [
  {
   "cell_type": "markdown",
   "metadata": {},
   "source": [
    "## algorithm design and anlysis-2025 spring  homework 3\n",
    "**Deadline**：2025.5.14\n",
    "\n",
    "**name**:\n",
    "\n",
    "\n",
    "note：\n",
    "---\n",
    "1. 带有\\*的题目，申请免上课的同学，必须完成，其他同学选作；\n",
    "2. 请独立完成，如求助了他人或者大模型，请著明，并且不可省略算法分析部分；\n",
    "4. 如若作答有雷同，全部取消成绩；\n",
    "3. 需要书面作答的题目，可以通过引用图片的形式添加，但是注意上传项目时包含所引用的图片的源文件；\n",
    "4. $log_n$ 默认表示$log_2{n}$;"
   ]
  },
  {
   "cell_type": "markdown",
   "metadata": {},
   "source": [
    "## 问题 1  \n",
    "\n",
    "请证明基于比较的排序算法计算复杂度下界为$\\Omega(nlogn)$"
   ]
  },
  {
   "cell_type": "markdown",
   "metadata": {},
   "source": [
    "you can refer a handwritten picture, pleas upload the picture in /fig/xxx.png\n",
    "answer：\n",
    "<div style=\"text-align:center;width:800px;\"> < img alt=\"\" src=\"./fig/HW3-q1.jpg\"> </div>\n"
   ]
  },
  {
   "cell_type": "markdown",
   "metadata": {},
   "source": [
    "## 问题 2 \n",
    "\n",
    "构建二叉搜索树\n",
    "\n",
    "> 1. 给定一个数组 [48, 33, 49, 47, 42, 46, 32], 构建一个二叉搜索树存储这些数据，请**绘制**所构建的**二叉搜索树**（标明结点的值）。\n",
    "> 2. 从第1问的二叉搜索树中删除33，请**绘制**删除33后的**二叉搜索树**（标明结点的值）\n",
    "\n",
    "- 推荐使用graphviz包绘制树的结构"
   ]
  },
  {
   "cell_type": "markdown",
   "metadata": {},
   "source": [
    "you can refer a handwritten picture, pleas upload the picture in /fig/xxx.png\n",
    "answer：",
    "<div style=\"text-align:center;width:800px;\"> < img alt=\"\" src=\"./fig/hw3q6.png\"> </div>\n"
   ]
  },
  {
   "cell_type": "markdown",
   "metadata": {},
   "source": [
    "## 问题 3 \n",
    "\n",
    "> 下面是九门课程的开始和结束时间:\n",
    ">\n",
    "> [(9:00,12:30), (11:00,14:00), (13:00, 14:30), (9:00,10:30),(13:00, 14:30),(14:00,16:30), (15:00,16:30), (15:00,16:30), (9:00,10:30)]\n",
    ">\n",
    "> 请使用贪婪算法为这九门课分配教室，要求在同一天内安排这些课，并且每个教室同一时间只能安排一门课。\n",
    "\n",
    "**请问最少需要几间教室，罗列出每个教室安排的课程**"
   ]
  },
  {
   "cell_type": "markdown",
   "metadata": {},
   "source": [
    "idea："
   ]
  },
  {
   "cell_type": "code",
   "execution_count": null,
   "metadata": {
    "vscode": {
     "languageId": "plaintext"
    }
   },
   "outputs": [
{
     "name": "stdout",
     "output_type": "stream",
     "text": [
      "最少需要的教室数量：3\n",
      "教室 1 的课程安排：\n",
      "  9.00-12.50\n",
      "  13.00-14.50\n",
      "  15.00-16.50\n",
      "\n",
      "教室 2 的课程安排：\n",
      "  9.00-10.50\n",
      "  11.00-14.00\n",
      "  14.00-16.50\n",
      "\n",
      "教室 3 的课程安排：\n",
      "  9.00-10.50\n",
      "  13.00-14.50\n",
      "  15.00-16.50\n",
      "\n"
     ]
    }

   ],
   "source": [
    "code：",
"from datetime import datetime\n",
    "\n",
    "# 输入课程的开始和结束时间\n",
    "courses = [(9, 12.5), (11, 14), (13, 14.5), (9, 10.5), (13, 14.5), (14, 16.5), (15, 16.5), (15, 16.5), (9, 10.5)]\n",
    "\n",
    "# 将课程按开始时间排序\n",
    "courses.sort(key=lambda x: x[0])\n",
    "\n",
    "# 用于存储每个教室的课程\n",
    "classrooms = []\n",
    "\n",
    "for course in courses:\n",
    "    start, end = course\n",
    "    # 尝试将课程分配到已有的教室\n",
    "    assigned = False\n",
    "    for classroom in classrooms:\n",
    "        # 如果课程的开始时间大于或等于教室中最后一门课的结束时间，则可以分配到该教室\n",
    "        if start >= classroom[-1][1]:\n",
    "            classroom.append(course)\n",
    "            assigned = True\n",
    "            break\n",
    "    # 如果无法分配到现有教室，则创建一个新的教室\n",
    "    if not assigned:\n",
    "        classrooms.append([course])\n",
    "\n",
    "# 输出结果\n",
    "print(f\"最少需要的教室数量：{len(classrooms)}\")\n",
    "for i, classroom in enumerate(classrooms, 1):\n",
    "    print(f\"教室 {i} 的课程安排：\")\n",
    "    for course in classroom:\n",
    "        print(f\"  {course[0]:.2f}-{course[1]:.2f}\")\n",
    "    print()"

   ]
  },
  {
   "cell_type": "markdown",
   "metadata": {},
   "source": [
    "## 问题 4 \n",
    "\n",
    "> 爬楼梯问题：假设爬楼梯时你每次只能爬一阶或者爬两阶，问爬上n阶的楼梯，你一共有多少种方法\n",
    "\n",
    "请设计算法完成该问题，分析算法设计思路，计算时间复杂度，并基于python编程实现"
   ]
  },
  {
   "cell_type": "markdown",
   "metadata": {},
   "source": [
    "idea："
   ]
  },
  {
   "cell_type": "code",
   "execution_count": null,
   "metadata": {},
   "outputs": [
{
     "name": "stdin",
     "output_type": "stream",
     "text": [
      "请输入台阶总数： 5\n"
     ]
    },
    {
     "name": "stdout",
     "output_type": "stream",
     "text": [
      "爬到第 5 层楼梯的不同方法数是：8\n"
     ]
    }

   ],
   "source": [
    "# add your code here\n",
 "'''\n",
    "    把问题分解为求到达每个台阶的不同方法数的子问题。\n",
    "    到达第 n 级台阶的方法数可以分解为到达第 n-1 级台阶的方法数和到达第 n-2 级台阶的方法数之和。\n",
    "    这是因为每次只能爬 1 级或 2 级台阶，所以到达第 n 级台阶的最后一步要么是从第 n-1 级台阶爬 1 级上来，要么是从第 n-2 级台阶爬 2 级上来。\n",
    "'''\n",
    "class Solution(object):\n",
    "    def climbStairs(self, n):\n",
    "        dp = [0, 1]\n",
    "        for i in range(n):\n",
    "            dp[i % 2] = dp[i % 2] + dp[(i + 1) % 2]\n",
    "        return dp[(n + 1) % 2]\n",
    "\n",
    "solution = Solution()\n",
    "\n",
    "n = int(input(\"请输入台阶总数：\"))\n",
    "\n",
    "result = solution.climbStairs(n)\n",
    "print(f\"爬到第 {n} 层楼梯的不同方法数是：{result}\")\n",
    "\n",
    "#时间复杂度为O(n)",



    "# your algorithm time complexity is: O(n)"
   ]
  },
  {
   "cell_type": "markdown",
   "metadata": {},
   "source": [
    "## 问题 5 \n",
    "\n",
    "> 0-1背包问题：现在有4块大理石，每个大理石对应的重量和价值使用一个元组表示, 即（重量，价值），4块大理石的重量和价值为：[(5,10), (4,40), (6,30), (3, 50)], 假设你有一辆最大承重为9的小推车，请问使用这个小推车装大理石的最大价值为多少\n",
    "\n",
    "请设计一个算法解决该问题，分析算法设计思路，计算时间复杂度，并基于python编程实现"
   ]
  },
  {
   "cell_type": "markdown",
   "metadata": {},
   "source": [
    "idea："
   ]
  },
  {
   "cell_type": "code",
   "execution_count": null,
   "metadata": {},
   "outputs": [
{
     "name": "stdout",
     "output_type": "stream",
     "text": [
      "最大价值为: 90\n"
     ]
    }

   ],
   "source": [
    "# add your code here\n",

 "#动态规划，对每一件物品遍历背包容量，当背包可容纳值大于等于当前物品，与之前已放进去的物品所得价值进行对比，考虑是否需要置换。\n",
    "def bag(n, c, w, v):\n",
    "  \n",
    "    # 置零，表示初始状态\n",
    "    value = [[0 for j in range(c + 1)] for i in range(n + 1)]\n",
    "    for i in range(1, n + 1):\n",
    "        for j in range(1, c + 1):\n",
    "            value[i][j] = value[i - 1][j]\n",
    "            # 背包总容量够放当前物体，遍历前一个状态考虑是否置换\n",
    "            if j >= w[i - 1] and value[i][j] < value[i - 1][j - w[i - 1]] + v[i - 1]:\n",
    "                value[i][j] = value[i - 1][j - w[i - 1]] + v[i - 1]\n",
    "    return value\n",
    "\n",
    "if __name__ == '__main__':\n",
    "    n = 4\n",
    "    c = 9\n",
    "    w = [5,4,6,3]\n",
    "    v = [10,40,30,50]\n",
    "    value = bag(n, c, w, v)\n",
    "    print('最大价值为:', value[n][c])\n",
    "    \n",
    "#时间复杂度为O(cn)",


    "# your algorithm time complexity is:O(cn)"
   ]
  },
  {
   "cell_type": "markdown",
   "metadata": {},
   "source": [
    "## 问题 6 \n",
    "给定 `n` 个非负整数表示每个宽度为 `1` 的柱子的高度图，计算按此排列的柱子，下雨之后能接多少雨水。\n",
    "\n",
    "\n",
    "\n",
    "<div style=\"text-align:center;width:800px;\"> <img alt=\"\" src=\"./fig/hw3q6.png\"> </div>\n",
    "\n",
    "请分析算法设计思路，计算时间复杂度，并基于python编程实现"
   ]
  },
  {
   "cell_type": "markdown",
   "metadata": {},
   "source": [
    "idea："
   ]
  },
  {
   "cell_type": "code",
   "execution_count": null,
   "metadata": {},
   "outputs": [
{
     "name": "stdout",
     "output_type": "stream",
     "text": [
      "输入: [0, 1, 0, 2, 1, 0, 1, 3, 2, 1, 2, 1]\n",
      "输出: 6\n",
      "输入:  [4, 2, 0, 3, 2, 5]\n",
      "输出: 9\n"
     ]
    }


   ],
   "source": [
    "# add your code here\n",
 "#对于每个位置，它可以接的雨水量取决于其左边和右边的最高柱子中的较小值与当前柱子的高度之差。\n",
    "\n",
    "class Solution(object):\n",
    "    def trap(self, height):\n",
    "        left = [0]  # 维护左边最大值\n",
    "        right = [0]  # 维护右边最大值\n",
    "        left_max = 0\n",
    "        right_max = 0\n",
    "        ans = 0\n",
    "        \n",
    "        # 计算左边最大值数组\n",
    "        for i in range(1, len(height)):\n",
    "            left_max = max(left_max, height[i - 1])\n",
    "            left.append(left_max)\n",
    "        \n",
    "        # 计算右边最大值数组\n",
    "        for i in range(1, len(height)):\n",
    "            right_max = max(right_max, height[len(height) - i])\n",
    "            right.append(right_max)\n",
    "        \n",
    "        # 反转右边数组以便于后续计算\n",
    "        right = right[::-1]\n",
    "        \n",
    "        # 计算每个位置的 min(left[i], right[i]) 并减去当前高度，求和得到结果\n",
    "        min_height = [min(left[i], right[i]) for i in range(len(left))]\n",
    "        sub = [min_height[i] - height[i] if min_height[i] - height[i] >= 0 else 0 for i in range(len(min_height))]\n",
    "        ans = sum(sub)\n",
    "        return ans\n",
    "\n",
    "heights = [0, 1, 0, 2, 1, 0, 1, 3, 2, 1, 2, 1]\n",
    "solution = Solution()\n",
    "rain_water = solution.trap(heights)\n",
    "print(\"输入:\" ,heights)\n",
    "print(\"输出:\", rain_water) \n",
    "\n",
    "heights = [4, 2, 0, 3, 2, 5]\n",
    "solution = Solution()\n",
    "rain_water = solution.trap(heights)\n",
    "print(\"输入: \",heights)\n",
    "print(\"输出:\", rain_water) \n",
    "\n",
    "#时间复杂度O(n)\n",


    "# your algorithm time complexity is:O(n)"
   ]
  },
  {
   "cell_type": "markdown",
   "metadata": {},
   "source": [
    "## 问题 7 \n",
    "\n",
    "**股票投资组合优化**： 假设你是一位投资者，想要在不同的股票中分配你的资金，以最大化你的投资回报。每只股票都有不同的预期收益率和风险。你的目标是选择一些股票，使得总投资金额不超过你的预算，并且预期收益最大化。\n",
    "\n",
    "在这个情况下，你可以将每只股票视为一个“物品”，其重量为投资金额，价值为预期收益率。然后，你可以使用分级背包问题的方法来选择部分股票，以便在预算内获得最大的预期收益。\n",
    "\n",
    "以下是一个简化的例子：\n",
    "\n",
    "假设你有以下三只股票可供选择：\n",
    "\n",
    "1. 股票 A：投资金额 5000 美元，预期收益率 10%\n",
    "2. 股票 B：投资金额 3000 美元，预期收益率 8%\n",
    "3. 股票 C：投资金额 2000 美元，预期收益率 12%\n",
    "\n",
    "请设计算法找到最优投资方案，分析算法设计思路，计算时间复杂度，并基于python编程实现"
   ]
  },
  {
   "cell_type": "markdown",
   "metadata": {},
   "source": [
    "idea："
   ]
  },
  {
   "cell_type": "code",
   "execution_count": null,
   "metadata": {},
   "outputs": [
 {
     "name": "stdout",
     "output_type": "stream",
     "text": [
      "选择的股票： [(2000, 12), (3000, 8)]\n",
      "总预期收益为： 20 %\n"
     ]
    }

   ],
   "source": [
    "# add your code here\n",

"def greedy_knapsack(budget, stocks):\n",
    "    # 计算每只股票的投资回报率\n",
    "    stocks_with_ratio = [(stock[0], stock[1], stock[1] / stock[0]) for stock in stocks]\n",
    "    # 按照投资回报率从高到低排序\n",
    "    stocks_with_ratio.sort(key=lambda x: x[2], reverse=True)\n",
    "\n",
    "    selected_stocks = []  # 选择的股票列表\n",
    "    total_profit = 0  # 总预期收益\n",
    "    remaining_budget = budget  # 剩余预算\n",
    "\n",
    "    for stock in stocks_with_ratio:\n",
    "        weight, value, ratio = stock\n",
    "        if remaining_budget >= weight:\n",
    "            selected_stocks.append((weight, value))\n",
    "            total_profit += value\n",
    "            remaining_budget -= weight\n",
    "\n",
    "    return selected_stocks, total_profit\n",
    "\n",
    "# 示例\n",
    "budget = 6000  # 预算 6000 美元\n",
    "stocks = [(5000, 10), (3000, 8), (2000, 12)]  # 股票列表：(投资金额, 预期收益率)\n",
    "selected_stocks, total_profit = greedy_knapsack(budget, stocks)\n",
    "print(\"选择的股票：\", selected_stocks)\n",
    "print(\"总预期收益为：\", total_profit, \"%\")",


    "# your algorithm time complexity is:"
   ]
  },
  {
   "cell_type": "markdown",
   "metadata": {},
   "source": [
    "## 问题 8\n",
    "\n",
    "给你二叉搜索树的根节点 root ，该树中的恰好两个节点的值被错误地交换。请在不改变其结构的情况下，恢复这棵树 。设计算法解决该问题，分析算法设计思路，计算时间复杂度，并基于python编程实现\n",
    "\n",
    "e.g.:\n",
    "---\n",
    "1.\n",
    "\n",
    "<div style=\"text-align:center;width:200px;\"> <img alt=\"\" src=\"./fig/hw3q9-1.jpg\"> </div>\n",
    "输入：root = [1,3,null,null,2]， 输出为：[3,1,null,null,2]， \n",
    "\n",
    "解释：3 不能是 1 的左孩子，因为 3 > 1 。交换 1 和 3 使二叉搜索树有效。\n",
    "\n",
    "2.\n",
    "\n",
    " <div style=\"text-align:center;width:200px;\"> <img alt=\"\" src=\"./fig/hw3q9-1.jpg\"> </div>\n",
    "输入： root=[3,1,4,null,null,2]， 输出为：[2,1,4,null,null,3]\n",
    "\n",
    "解释：2 不能在 3 的右子树中，因为 2 < 3 。交换 2 和 3 使二叉搜索树有效。"
   ]
  },
  {
   "cell_type": "markdown",
   "metadata": {},
   "source": [
    "idea：\n"
   ]
  },
  {
   "cell_type": "code",
   "execution_count": null,
   "metadata": {},
   "outputs": [
{
     "name": "stdout",
     "output_type": "stream",
     "text": [
      "恢复后的中序遍历结果：\n",
      "1 2 3 "
     ]
    }

   ],
   "source": [
    "# add your code here\n",
  "from typing import Optional, List\n",
    "\n",
    "# 定义二叉树节点类\n",
    "class TreeNode:\n",
    "    def __init__(self, val=0, left=None, right=None):\n",
    "        self.val = val\n",
    "        self.left = left\n",
    "        self.right = right\n",
    "\n",
    "class Solution:\n",
    "    def recoverTree(self, root: TreeNode) -> None:\n",
    "        \"\"\"\n",
    "        Do not return anything, modify root in-place instead.\n",
    "        \"\"\"\n",
    "        def LDR(root: TreeNode, aim_val_iter=None):\n",
    "            if root:\n",
    "                LDR(root.left, aim_val_iter)\n",
    "                if not aim_val_iter:\n",
    "                    val_list.append(root.val)\n",
    "                else:\n",
    "                    root.val = next(val_iter)\n",
    "                LDR(root.right, aim_val_iter)\n",
    "                \n",
    "        val_list = []\n",
    "        LDR(root)\n",
    "        val_iter = iter(sorted(val_list))\n",
    "        LDR(root, val_iter)\n",
    "\n",
    "# 辅助函数：将列表转换为二叉树\n",
    "def list_to_tree(data: List[Optional[int]]) -> Optional[TreeNode]:\n",
    "    if not data:\n",
    "        return None\n",
    "    nodes = [TreeNode(val) if val is not None else None for val in data]\n",
    "    root = nodes[0]\n",
    "    queue = [nodes[0]]\n",
    "    i = 1\n",
    "    while queue and i < len(nodes):\n",
    "        node = queue.pop(0)\n",
    "        if i < len(nodes) and nodes[i] is not None:\n",
    "            node.left = nodes[i]\n",
    "            queue.append(node.left)\n",
    "        i += 1\n",
    "        if i < len(nodes) and nodes[i] is not None:\n",
    "            node.right = nodes[i]\n",
    "            queue.append(node.right)\n",
    "        i += 1\n",
    "    return root\n",
    "\n",
    "# 辅助函数：打印中序遍历结果，用于验证\n",
    "def print_inorder(root: TreeNode):\n",
    "    if root:\n",
    "        print_inorder(root.left)\n",
    "        print(root.val, end=' ')\n",
    "        print_inorder(root.right)\n",
    "\n",
    "# 输入\n",
    "root_data = [1, 3, None, None, 2]\n",
    "root = list_to_tree(root_data)\n",
    "\n",
    "# 创建 Solution 类的实例\n",
    "solution = Solution()\n",
    "\n",
    "# 调用 recoverTree 方法恢复树\n",
    "solution.recoverTree(root)\n",
    "\n",
    "# 输出恢复后的树的中序遍历结果\n",
    "print(\"恢复后的中序遍历结果：\")\n",
    "print_inorder(root)\n",
    "\n",

    "# your algorithm time complexity is:O(nlogn)"
   ]
  },
  {
   "cell_type": "markdown",
   "metadata": {},
   "source": [
    "## 问题 9  \n",
    "\n",
    "给你一个二叉树的根节点 root ，树中每个节点都存放有一个 0 到 9 之间的数字。每条从根节点到叶节点的路径都代表一个数字：\n",
    "\n",
    "> 例如，从根节点到叶节点的路径 1 -> 2 -> 3 表示数字 123 。\n",
    "\n",
    "设计一个算法计算从根节点到叶节点生成的所有数字之和 ，分析算法设计思路，计算时间复杂度，并基于python编程实现\n",
    "\n",
    "叶节点:是指没有子节点的节点。\n",
    "\n",
    "e.g.:\n",
    "---\n",
    "1.\n",
    "\n",
    " <div style=\"text-align:center;width:200px;\"> <img alt=\"figure\" src=\"./fig/hw3q10-1.jpg\"> </div>\n",
    "\n",
    " 输入：root = [1,2,3], 输出：25\n",
    "\n",
    "解释：从根到叶子节点路径 1->2 代表数字 12，1->3 代表数字 13，因此和为 12 + 13 = 25 。\n",
    "\n",
    "2.\n",
    "\n",
    " <div style=\"text-align:center;width:200px;\"> <img alt=\"figure\" src=\"./fig/hw3q10-2.jpg\"> </div>\n",
    "\n",
    " 输入：root = [4,9,0,5,1], 输出：1026\n",
    "\n",
    "解释：从根到叶子节点路径 4->9->5 代表数字 495，4->9->1 代表数字 491，4->0 代表数字 40。因此和为 495 + 491 + 40 = 1026 。"
   ]
  },
  {
   "cell_type": "markdown",
   "metadata": {},
   "source": [
    "idea："
   ]
  },
  {
   "cell_type": "code",
   "execution_count": null,
   "metadata": {},
   "outputs": [
{
     "name": "stdout",
     "output_type": "stream",
     "text": [
      "请输入二叉树节点值列表（用None表示空节点）：4,9,0,5,1\n",
      "根到叶子节点路径数值之和是：1026\n"
     ]
    }

   ],
   "source": [
    "# add your code here\n",

"class TreeNode:\n",
    "    def __init__(self, val=0, left=None, right=None):\n",
    "        self.val = val\n",
    "        self.left = left\n",
    "        self.right = right\n",
    "\n",
    "class Solution:\n",
    "    def sumNumbers(self, root: TreeNode) -> int:\n",
    "        def recur(root, path):\n",
    "            if not root:\n",
    "                return\n",
    "            path += str(root.val)\n",
    "            if not root.left and not root.right:\n",
    "                self.res.append(path[:])\n",
    "            recur(root.left, path)\n",
    "            recur(root.right, path)\n",
    "            path = path[:-1]\n",
    "        self.res = []\n",
    "        recur(root, '')\n",
    "        ans = 0\n",
    "        for i in self.res:\n",
    "            ans += int(i)\n",
    "        return ans\n",
    "\n",
    "def create_tree(nodes):\n",
    "    if not nodes:\n",
    "        return None\n",
    "    root = TreeNode(nodes[0])\n",
    "    queue = [root]\n",
    "    i = 1\n",
    "    while i < len(nodes):\n",
    "        node = queue.pop(0)\n",
    "        if nodes[i] is not None:\n",
    "            node.left = TreeNode(nodes[i])\n",
    "            queue.append(node.left)\n",
    "        i += 1\n",
    "        if i < len(nodes) and nodes[i] is not None:\n",
    "            node.right = TreeNode(nodes[i])\n",
    "            queue.append(node.right)\n",
    "        i += 1\n",
    "    return root\n",
    "\n",
    "nodes = eval(input(\"请输入二叉树节点值列表（用None表示空节点）：\"))\n",
    "\n",
    "# 创建二叉树\n",
    "root = create_tree(nodes)\n",
    "\n",
    "solution = Solution()\n",
    "\n",
    "result = solution.sumNumbers(root)\n",
    "print(f\"根到叶子节点路径数值之和是：{result}\")",


    "# your algorithm time complexity is:"
   ]
  },
  {
   "cell_type": "markdown",
   "metadata": {},
   "source": [
    "## 问题 10  \n",
    "\n",
    "给你一个二叉树的根节点 root ， 检查它是否轴对称。\n",
    "\n",
    "1. 分析算法设计思路，计算时间复杂度，并基于python编程实现\n",
    "2. \\* 设计使用递归和迭代两种方法解决这个问题，计算时间复杂度，并基于python编程实现\n",
    "\n",
    "e.g.:\n",
    "---\n",
    "1.\n",
    "\n",
    " <div style=\"text-align:center;width:200px;\"> <img alt=\"figure\" src=\"./fig/hw3q11-1.png\"> </div>\n",
    "\n",
    " 输入：root = [1,2,2,3,4,4,3]， 输出：true\n",
    "\n",
    "解释：二叉树 [1,2,2,3,4,4,3] 对称。\n",
    "\n",
    "2.\n",
    "\n",
    " <div style=\"text-align:center;width:200px;\"> <img alt=\"figure\" src=\"./fig/hw3q11-2.png\"> </div>\n",
    "\n",
    " 输入：root = [1,2,2,null,3,null,3]， 输出：false"
   ]
  },
  {
   "cell_type": "markdown",
   "metadata": {},
   "source": [
    "idea"
   ]
  },
  {
   "cell_type": "code",
   "execution_count": null,
   "metadata": {},
   "outputs": [
{
     "name": "stdout",
     "output_type": "stream",
     "text": [
      "树是否对称: True\n"
     ]
    }

   ],
   "source": [
    "# add your code here\n",
"from typing import List, Optional\n",
    "\n",
    "# 定义二叉树节点类\n",
    "class TreeNode:\n",
    "    def __init__(self, val=0, left=None, right=None):\n",
    "        self.val = val\n",
    "        self.left = left\n",
    "        self.right = right\n",
    "\n",
    "class Solution:\n",
    "    def isSymmetric(self, root: Optional[TreeNode]) -> bool:\n",
    "        if not root:\n",
    "            return True\n",
    "        queue = [root]\n",
    "        while queue:\n",
    "            next_queue = []\n",
    "            layer = []\n",
    "            for node in queue:\n",
    "                if not node:\n",
    "                    layer.append(None)\n",
    "                    continue\n",
    "                next_queue.append(node.left)\n",
    "                next_queue.append(node.right)\n",
    "                layer.append(node.val)\n",
    "            # 检查当前层是否对称\n",
    "            if layer != layer[::-1]:\n",
    "                return False\n",
    "            queue = next_queue\n",
    "        return True\n",
    "\n",
    "# 辅助函数：将列表转换为二叉树\n",
    "def list_to_tree(data: List[Optional[int]]) -> Optional[TreeNode]:\n",
    "    if not data:\n",
    "        return None\n",
    "    nodes = [TreeNode(val) if val is not None else None for val in data]\n",
    "    root = nodes[0]\n",
    "    queue = [nodes[0]]\n",
    "    i = 1\n",
    "    while queue and i < len(nodes):\n",
    "        node = queue.pop(0)\n",
    "        if i < len(nodes) and nodes[i] is not None:\n",
    "            node.left = nodes[i]\n",
    "            queue.append(node.left)\n",
    "        i += 1\n",
    "        if i < len(nodes) and nodes[i] is not None:\n",
    "            node.right = nodes[i]\n",
    "            queue.append(node.right)\n",
    "        i += 1\n",
    "    return root\n",
    "\n",
    "root_data = [1, 2, 2, 3, 4, 4, 3]\n",
    "root = list_to_tree(root_data)\n",
    "solution = Solution()\n",
    "# 调用 isSymmetric 方法判断树是否对称\n",
    "result = solution.isSymmetric(root)\n",
    "print(\"树是否对称:\", result)\n",
    "\n",

    "# your algorithm time complexity is:O(n)"
   ]
  },
  {
   "cell_type": "markdown",
   "metadata": {},
   "source": [
    "## 问题 11  \n",
    "\n",
    "给你一个由 '1'（陆地）和 '0'（水）组成的的二维网格，请你计算网格中岛屿的数量。岛屿总是被水包围，并且每座岛屿只能由水平方向和/或竖直方向上相邻的陆地连接形成。\n",
    "\n",
    "此外，你可以假设该网格的四条边均被水包围。\n",
    "\n",
    "分析算法设计思路，计算时间复杂度，并基于python编程实现\n",
    "\n",
    "e.g.:\n",
    "---\n",
    "1.\n",
    "输入：grid = [\n",
    "\n",
    "    [\"1\",\"1\",\"1\",\"1\",\"0\"],\n",
    "\n",
    "    [\"1\",\"1\",\"0\",\"1\",\"0\"], \n",
    "\n",
    "    [\"1\",\"1\",\"0\",\"0\",\"0\"], \n",
    "\n",
    "    [\"0\",\"0\",\"0\",\"0\",\"0\"]  \n",
    "\n",
    "]\n",
    "\n",
    "输出：1\n",
    "\n",
    "2.\n",
    "输入：grid = [\n",
    "\n",
    "    [\"1\",\"1\",\"0\",\"0\",\"0\"],\n",
    "\n",
    "    [\"1\",\"1\",\"0\",\"0\",\"0\"],\n",
    "\n",
    "    [\"0\",\"0\",\"1\",\"0\",\"0\"],\n",
    "\n",
    "    [\"0\",\"0\",\"0\",\"1\",\"1\"]\n",
    "\n",
    "]\n",
    "\n",
    "输出：3"
   ]
  },
  {
   "cell_type": "markdown",
   "metadata": {},
   "source": [
    "idea:"
   ]
  },
  {
   "cell_type": "code",
   "execution_count": null,
   "metadata": {},
   "outputs": [
{
     "name": "stdout",
     "output_type": "stream",
     "text": [
      "岛屿数量为： 3\n"
     ]
    }

   ],
   "source": [
    "# add your code here\n",
  "from typing import List\n",
    "\n",
    "class Solution:\n",
    "    def numIslands(self, grid: List[List[str]]) -> int:\n",
    "        def dfs(i, j):\n",
    "            if grid[i][j] == '1':\n",
    "                grid[i][j] = '0'  # 标记为已访问\n",
    "                # 检查上下左右四个方向\n",
    "                if i - 1 >= 0:\n",
    "                    dfs(i - 1, j)\n",
    "                if i + 1 < len(grid):\n",
    "                    dfs(i + 1, j)\n",
    "                if j - 1 >= 0:\n",
    "                    dfs(i, j - 1)\n",
    "                if j + 1 < len(grid[0]):\n",
    "                    dfs(i, j + 1)\n",
    "            else:\n",
    "                return\n",
    "        \n",
    "        res = 0\n",
    "        for i in range(len(grid)):\n",
    "            for j in range(len(grid[0])):\n",
    "                if grid[i][j] == '1':\n",
    "                    res += 1\n",
    "                    dfs(i, j)\n",
    "        return res\n",
    "\n",
    "# 输入示例\n",
    "grid = [\n",
    "    ['1', '1', '0', '0', '0'],\n",
    "    ['1', '1', '0', '0', '0'],\n",
    "    ['0', '0', '1', '0', '0'],\n",
    "    ['0', '0', '0', '1', '1']\n",
    "]\n",
    "\n",
    "# 创建 Solution 类的实例\n",
    "solution = Solution()\n",
    "\n",
    "# 调用 numIslands 方法计算岛屿数量\n",
    "result = solution.numIslands(grid)\n",
    "\n",
    "# 输出结果\n",
    "print(\"岛屿数量为：\", result)\n",
    "\n",

    "# your algorithm time complexity is:O(m*n)"
   ]
  }
 ],
 "metadata": {
  "language_info": {
   "name": "python"
  }
 },
 "nbformat": 4,
 "nbformat_minor": 2
}
